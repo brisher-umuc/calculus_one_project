{
 "metadata": {
  "name": ""
 },
 "nbformat": 3,
 "nbformat_minor": 0,
 "worksheets": [
  {
   "cells": [
    {
     "cell_type": "heading",
     "level": 1,
     "metadata": {},
     "source": [
      "Calculus I Project -- Ben Risher"
     ]
    },
    {
     "cell_type": "heading",
     "level": 3,
     "metadata": {},
     "source": [
      "Calculations concerning hotdog pieces.  "
     ]
    },
    {
     "cell_type": "raw",
     "metadata": {},
     "source": [
      "My 18 month old son, Noah, loves hotdogs.  Noah loves to feed our dog Kira almost as much as he loves hotdogs.  \n",
      "\n",
      "Whenever Noah wants to feed Kira, he holds his hand, which is gripping the hotdog piece, out to the side of his highchair and lets it drop to the floor.  I'll be looking at the time it takes the piece of hotdog to hit the floor, and the speed at which the hotdog is falling at any point between release and the floor.  "
     ]
    },
    {
     "cell_type": "code",
     "collapsed": false,
     "input": [
      "import math"
     ],
     "language": "python",
     "metadata": {},
     "outputs": [],
     "prompt_number": 31
    },
    {
     "cell_type": "code",
     "collapsed": false,
     "input": [
      "height_of_noahs_hand = 39.5 #inches"
     ],
     "language": "python",
     "metadata": {},
     "outputs": [],
     "prompt_number": 33
    },
    {
     "cell_type": "code",
     "collapsed": false,
     "input": [
      "gravity = 386.09 #inches/second^2  (gravity)"
     ],
     "language": "python",
     "metadata": {},
     "outputs": [],
     "prompt_number": 34
    },
    {
     "cell_type": "raw",
     "metadata": {},
     "source": [
      "Accoring to physicsclassroom.com, the distance travelled by an object falling for time t:  \n",
      "    distance = 0.5 * gravity * time^2\n",
      "\n",
      "To get the time it takes for Noah's hotdog piece to hit the ground, we'll solve for time, using the two variables above."
     ]
    },
    {
     "cell_type": "code",
     "collapsed": false,
     "input": [
      "time_to_hit_the_floor = math.sqrt((2 * height_of_noahs_hand) / gravity)  "
     ],
     "language": "python",
     "metadata": {},
     "outputs": [],
     "prompt_number": 35
    },
    {
     "cell_type": "code",
     "collapsed": false,
     "input": [
      "time_to_hit_the_floor"
     ],
     "language": "python",
     "metadata": {},
     "outputs": [
      {
       "metadata": {},
       "output_type": "pyout",
       "prompt_number": 36,
       "text": [
        "0.45234445299689685"
       ]
      }
     ],
     "prompt_number": 36
    },
    {
     "cell_type": "raw",
     "metadata": {},
     "source": [
      "So, the time it takes for a hotdog piece to travel from Noah's hand to the floor is 0.4523 seconds.  Now, we can take the derivative of the original function (distance=0.5*gravity*time^2) to calculate the speed of the hotdog piece.  \n",
      "\n",
      "dx => gravity*time"
     ]
    },
    {
     "cell_type": "code",
     "collapsed": false,
     "input": [
      "derivative = gravity * time_to_hit_the_floor"
     ],
     "language": "python",
     "metadata": {},
     "outputs": [],
     "prompt_number": 37
    },
    {
     "cell_type": "code",
     "collapsed": false,
     "input": [
      "derivative"
     ],
     "language": "python",
     "metadata": {},
     "outputs": [
      {
       "metadata": {},
       "output_type": "pyout",
       "prompt_number": 38,
       "text": [
        "174.6456698575719"
       ]
      }
     ],
     "prompt_number": 38
    },
    {
     "cell_type": "raw",
     "metadata": {},
     "source": [
      "Now we know that Noah's hotdog piece is traveling 174.6457 inches/sec^2 when it hits the ground.  But what about when Kira snatches it out of midair?  If we accept, for argument's sake, that the height of Kira's mouth is the point at which the hotdog piece stops travelling, then we can also discern a) the hotdog piece's speed; b) the distance that the hotdog piece has travelled; and c) the time it took to arrive at Kira's mouth.  "
     ]
    },
    {
     "cell_type": "code",
     "collapsed": false,
     "input": [
      "kiras_mouth_height = 21.3 #inches"
     ],
     "language": "python",
     "metadata": {},
     "outputs": [],
     "prompt_number": 39
    },
    {
     "cell_type": "code",
     "collapsed": false,
     "input": [
      "interception_height = (height_of_noahs_hand - kiras_mouth_height)"
     ],
     "language": "python",
     "metadata": {},
     "outputs": [],
     "prompt_number": 44
    },
    {
     "cell_type": "raw",
     "metadata": {},
     "source": [
      "So, the height we'll use to calculate the time it takes to reach Kira is the difference between the height that Noah drops the hotdog piece to the height at which Kira's mouth resides.  "
     ]
    },
    {
     "cell_type": "code",
     "collapsed": false,
     "input": [
      "time_to_interception = math.sqrt((2 * interception_height) / gravity)  "
     ],
     "language": "python",
     "metadata": {},
     "outputs": [],
     "prompt_number": 45
    },
    {
     "cell_type": "code",
     "collapsed": false,
     "input": [
      "time_to_interception"
     ],
     "language": "python",
     "metadata": {},
     "outputs": [
      {
       "metadata": {},
       "output_type": "pyout",
       "prompt_number": 46,
       "text": [
        "0.3070481006171849"
       ]
      }
     ],
     "prompt_number": 46
    },
    {
     "cell_type": "raw",
     "metadata": {},
     "source": [
      "Again, now that we know the time it took to travel to Kira's mouth, we can calculate the speed at which the hotdog piece was travelling when it arrived in Kira's mouth.  "
     ]
    },
    {
     "cell_type": "code",
     "collapsed": false,
     "input": [
      "kira_derivative = gravity * time_to_interception"
     ],
     "language": "python",
     "metadata": {},
     "outputs": [],
     "prompt_number": 47
    },
    {
     "cell_type": "code",
     "collapsed": false,
     "input": [
      "kira_derivative"
     ],
     "language": "python",
     "metadata": {},
     "outputs": [
      {
       "metadata": {},
       "output_type": "pyout",
       "prompt_number": 48,
       "text": [
        "118.54820116728891"
       ]
      }
     ],
     "prompt_number": 48
    },
    {
     "cell_type": "code",
     "collapsed": false,
     "input": [],
     "language": "python",
     "metadata": {},
     "outputs": []
    },
    {
     "cell_type": "code",
     "collapsed": false,
     "input": [],
     "language": "python",
     "metadata": {},
     "outputs": []
    },
    {
     "cell_type": "raw",
     "metadata": {},
     "source": [
      "Citations: \n",
      "Henderson, T. (1996, January 1). How Fast? and How Far? Retrieved March 1, 2015, from \n",
      "    http://www.physicsclassroom.com/class/1DKin/Lesson-5/How-Fast-and-How-Far\n",
      "\n",
      "            "
     ]
    },
    {
     "cell_type": "code",
     "collapsed": false,
     "input": [],
     "language": "python",
     "metadata": {},
     "outputs": []
    }
   ],
   "metadata": {}
  }
 ]
}